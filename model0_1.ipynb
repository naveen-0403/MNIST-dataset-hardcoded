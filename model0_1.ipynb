{
 "cells": [
  {
   "cell_type": "code",
   "execution_count": 10,
   "metadata": {},
   "outputs": [],
   "source": [
    "from mnist import MNIST\n",
    "import numpy as np"
   ]
  },
  {
   "cell_type": "code",
   "execution_count": 16,
   "metadata": {},
   "outputs": [],
   "source": [
    "mndata = MNIST(\"MNIST dataset\")\n",
    "images,labels = mndata.load_training()\n",
    "test_image,test_labels =mndata.load_testing()"
   ]
  },
  {
   "cell_type": "code",
   "execution_count": 5,
   "metadata": {},
   "outputs": [],
   "source": [
    "def diff(img1,img2):\n",
    "    diff=0\n",
    "    for i in range(0,784):\n",
    "        diff+=abs(img1[i]-img2[i])\n",
    "    return diff/784"
   ]
  },
  {
   "cell_type": "code",
   "execution_count": 22,
   "metadata": {},
   "outputs": [],
   "source": [
    "acceptantcriteria = [0]*10\n",
    "average_images = [[0]*784]*10\n",
    "#average_image = []\n",
    "count = [0]*10\n",
    "for i in range(len(images)):\n",
    "    for j in range(784):\n",
    "        average_images[labels[i]][j]+=images[i][j]\n",
    "    count[labels[i]]+=1\n",
    "for i in range(len(average_images)):\n",
    "    for index in range(784):\n",
    "        average_images[i][index]=average_images[i][index]/count[i]\n",
    "for i in range(len(images)):\n",
    "    tot_dis=0\n",
    "    for average_image in average_images:\n",
    "        tot_dis+=diff(average_image,images[i])\n",
    "    tot_dis /=10\n",
    "    acceptantcriteria[labels[i]]+=tot_dis\n",
    "for i in range(len(acceptantcriteria)):\n",
    "    acceptantcriteria[i]=acceptantcriteria[i]/count[i]\n"
   ]
  },
  {
   "cell_type": "code",
   "execution_count": 23,
   "metadata": {},
   "outputs": [
    {
     "name": "stdout",
     "output_type": "stream",
     "text": [
      "[44.21682790539819, 19.379653852789975, 37.988657849846994, 36.09018653946651, 30.948225682775742, 32.83109548467981, 35.011952681545736, 29.20456292652735, 38.28977538289272, 31.260435427322722]\n"
     ]
    }
   ],
   "source": [
    "print(acceptantcriteria)"
   ]
  },
  {
   "cell_type": "code",
   "execution_count": 24,
   "metadata": {},
   "outputs": [
    {
     "name": "stdout",
     "output_type": "stream",
     "text": [
      "Finding the accuracy of the model\n",
      "==================================================\n"
     ]
    }
   ],
   "source": [
    "print(\"Finding the accuracy of the model\\n==================================================\")\n",
    "correct_matches = 0\n",
    "incorrect_matches = 0\n",
    "for i in range(len(test_image)):\n",
    "    difference = diff(test_image[i], average_images[test_labels[i]])\n",
    "    # print(difference)\n",
    "    if difference<=acceptantcriteria[test_labels[i]]:\n",
    "        correct_matches += 1\n",
    "    else:\n",
    "        incorrect_matches += 1\n",
    "\n"
   ]
  },
  {
   "cell_type": "code",
   "execution_count": 25,
   "metadata": {},
   "outputs": [
    {
     "name": "stdout",
     "output_type": "stream",
     "text": [
      "5199 and 4801\n",
      "the accuracy of the model is:  0.5199\n"
     ]
    }
   ],
   "source": [
    "print(correct_matches,\"and\",incorrect_matches)\n",
    "print(\"the accuracy of the model is: \",correct_matches /len(test_image))"
   ]
  },
  {
   "cell_type": "code",
   "execution_count": null,
   "metadata": {},
   "outputs": [],
   "source": []
  }
 ],
 "metadata": {
  "kernelspec": {
   "display_name": "Python 3",
   "language": "python",
   "name": "python3"
  },
  "language_info": {
   "codemirror_mode": {
    "name": "ipython",
    "version": 3
   },
   "file_extension": ".py",
   "mimetype": "text/x-python",
   "name": "python",
   "nbconvert_exporter": "python",
   "pygments_lexer": "ipython3",
   "version": "3.11.1 (tags/v3.11.1:a7a450f, Dec  6 2022, 19:58:39) [MSC v.1934 64 bit (AMD64)]"
  },
  "orig_nbformat": 4,
  "vscode": {
   "interpreter": {
    "hash": "a6d0176bc64532b88eea36adbff40f470d258180b7efae5b2d278a50106e8147"
   }
  }
 },
 "nbformat": 4,
 "nbformat_minor": 2
}
